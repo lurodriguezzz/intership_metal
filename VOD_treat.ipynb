{
 "cells": [
  {
   "cell_type": "code",
   "execution_count": 3,
   "id": "bc06e886-026f-457a-ab0a-360c67812c03",
   "metadata": {},
   "outputs": [],
   "source": [
    "# base_packs\n",
    "import numpy as np\n",
    "import pandas as pd\n",
    "import scipy.stats as stats\n",
    "import matplotlib.pyplot as plt\n",
    "import sklearn.preprocessing as skp\n",
    "import sklearn.decomposition as skd\n",
    "import statsmodels.api as sm\n",
    "import sklearn.manifold as skm\n",
    "import sklearn.cluster as skc\n",
    "from sklearn.model_selection import train_test_split\n",
    "from sklearn.metrics import confusion_matrix\n",
    "from sklearn.ensemble import IsolationForest\n",
    "import matplotlib.pyplot as plt\n",
    "from sklearn.linear_model import LinearRegression\n",
    "from sklearn.linear_model import LogisticRegression\n",
    "from sklearn.metrics import r2_score\n",
    "from statsmodels.stats.diagnostic import het_white\n",
    "import ruptures as rpt\n",
    "from sklearn.tree import DecisionTreeClassifier\n",
    "from sklearn.preprocessing import StandardScaler\n",
    "import seaborn as sns\n",
    "from sklearn.metrics import accuracy_score, classification_report\n",
    "import statsmodels.api as sm"
   ]
  },
  {
   "cell_type": "code",
   "execution_count": 36,
   "id": "b4e7f660-f86e-43b8-a4f9-4f575a19d77c",
   "metadata": {},
   "outputs": [],
   "source": [
    "dt = ''\n",
    "dt = pd.DataFrame(pd.read_excel(dt))\n",
    "dt"
   ]
  },
  {
   "cell_type": "code",
   "execution_count": 14,
   "id": "7c056248-9bea-42ed-bc45-47fc350be286",
   "metadata": {},
   "outputs": [
    {
     "name": "stderr",
     "output_type": "stream",
     "text": [
      "C:\\Users\\S409478\\AppData\\Local\\Temp\\ipykernel_3120\\276029850.py:1: FutureWarning: A value is trying to be set on a copy of a DataFrame or Series through chained assignment using an inplace method.\n",
      "The behavior will change in pandas 3.0. This inplace method will never work because the intermediate object on which we are setting values always behaves as a copy.\n",
      "\n",
      "For example, when doing 'df[col].method(value, inplace=True)', try using 'df.method({col: value}, inplace=True)' or df[col] = df[col].method(value) instead, to perform the operation inplace on the original object.\n",
      "\n",
      "\n",
      "  dt['Tempo de depressão de vácuo(min)'].replace(',' , '.', inplace = True)\n",
      "C:\\Users\\S409478\\AppData\\Local\\Temp\\ipykernel_3120\\276029850.py:4: FutureWarning: A value is trying to be set on a copy of a DataFrame or Series through chained assignment using an inplace method.\n",
      "The behavior will change in pandas 3.0. This inplace method will never work because the intermediate object on which we are setting values always behaves as a copy.\n",
      "\n",
      "For example, when doing 'df[col].method(value, inplace=True)', try using 'df.method({col: value}, inplace=True)' or df[col] = df[col].method(value) instead, to perform the operation inplace on the original object.\n",
      "\n",
      "\n",
      "  dt['Teor de C após a descarburação(%)'].replace(',' , '.', inplace = True)\n",
      "C:\\Users\\S409478\\AppData\\Local\\Temp\\ipykernel_3120\\276029850.py:8: FutureWarning: Downcasting behavior in `replace` is deprecated and will be removed in a future version. To retain the old behavior, explicitly call `result.infer_objects(copy=False)`. To opt-in to the future behavior, set `pd.set_option('future.no_silent_downcasting', True)`\n",
      "  dt.replace('Ruim', 0 , inplace = True)\n"
     ]
    }
   ],
   "source": [
    "dt['Tempo de depressão de vácuo(min)'].replace(',' , '.', inplace = True)\n",
    "dt['Tempo de depressão de vácuo(min)']= pd.to_numeric(dt['Tempo de depressão de vácuo(min)'] , errors = 'coerce')\n",
    "\n",
    "dt['Teor de C após a descarburação(%)'].replace(',' , '.', inplace = True)\n",
    "dt['Teor de C após a descarburação(%)']= pd.to_numeric(dt['Teor de C após a descarburação(%)'] , errors = 'coerce')\n",
    "dt.drop(columns=['DATA'], inplace=True)\n",
    "dt.replace('Boa', 1 , inplace = True)\n",
    "dt.replace('Ruim', 0 , inplace = True)"
   ]
  },
  {
   "cell_type": "code",
   "execution_count": null,
   "id": "6feb32ac-7888-4e09-be30-4bfb9bbba92d",
   "metadata": {},
   "outputs": [],
   "source": [
    "dt = pd.get_dummies(dt)"
   ]
  },
  {
   "cell_type": "code",
   "execution_count": null,
   "id": "ee6be0cd-e2f9-4034-b33b-365825252fec",
   "metadata": {},
   "outputs": [],
   "source": [
    "#substituir nan  pela mediana.\n",
    "for i in dt.columns:\n",
    "    median_value = dt[i].median()  # Calculate median for the column\n",
    "    dt[i].fillna(median_value, inplace=True)"
   ]
  },
  {
   "cell_type": "code",
   "execution_count": null,
   "id": "cea831cd-1c42-474f-94cb-155bfb78fd5c",
   "metadata": {},
   "outputs": [],
   "source": [
    "dt = dt.replace({False: 0, True: 1})\n",
    "dt"
   ]
  },
  {
   "cell_type": "code",
   "execution_count": null,
   "id": "7672ec0b-43c8-40d9-9822-1ec50cea3719",
   "metadata": {},
   "outputs": [],
   "source": [
    "contr = dt['']"
   ]
  },
  {
   "cell_type": "code",
   "execution_count": null,
   "id": "895659c6-19a8-4ccc-a250-996293a769a2",
   "metadata": {},
   "outputs": [],
   "source": [
    "contr_dt = pd.DataFrame(contr.values)\n",
    "contr_dt"
   ]
  },
  {
   "cell_type": "code",
   "execution_count": null,
   "id": "58a52e63-3a39-4cca-89f2-e49736fa06d4",
   "metadata": {},
   "outputs": [],
   "source": [
    "model = rpt.Pelt(model=\"rbf\").fit(contr.values)\n",
    "breakpoints = model.predict(pen= 0)\n",
    "breaks_df = pd.DataFrame({\n",
    "    'Break_Index': breakpoints,\n",
    "     \n",
    "    \n",
    "})"
   ]
  },
  {
   "cell_type": "code",
   "execution_count": null,
   "id": "1c6e102f-ee66-479a-9be2-1afdd2b0359f",
   "metadata": {},
   "outputs": [],
   "source": [
    "clusters = []\n",
    "for i in range(len(breakpoints) - 1):\n",
    "    clusters.append((breakpoints[i], breakpoints[i+1]))\n"
   ]
  },
  {
   "cell_type": "code",
   "execution_count": null,
   "id": "fbdfca9a-a793-4d41-8fef-20b56f2d9d57",
   "metadata": {},
   "outputs": [],
   "source": [
    "dt['Tag_processo_pressão'] = np.nan\n",
    "for i, (start, end) in enumerate(clusters):\n",
    "    dt.loc[dt.index[start:end], 'Tag_processo_pressão'] = i + 1 "
   ]
  },
  {
   "cell_type": "code",
   "execution_count": null,
   "id": "4f4f99ec-9616-45ee-80d4-d4794defc73b",
   "metadata": {},
   "outputs": [],
   "source": [
    "dt['Tag_processo_pressão'] = dt['Tag_processo_pressão'].fillna(0)\n",
    "dt"
   ]
  },
  {
   "cell_type": "code",
   "execution_count": null,
   "id": "2c141296-0b2b-4541-b45b-07f2f0de544f",
   "metadata": {},
   "outputs": [],
   "source": [
    "with pd.ExcelWriter('VOD_treaty_data.xlsx') as writer:\n",
    "   dt.to_excel(writer, sheet_name='VOD_treaty_data', index=True)"
   ]
  },
  {
   "cell_type": "code",
   "execution_count": null,
   "id": "0d360f76-4c11-4d53-8006-5fd7bb2eb383",
   "metadata": {},
   "outputs": [],
   "source": []
  }
 ],
 "metadata": {
  "kernelspec": {
   "display_name": "Python 3 (ipykernel)",
   "language": "python",
   "name": "python3"
  },
  "language_info": {
   "codemirror_mode": {
    "name": "ipython",
    "version": 3
   },
   "file_extension": ".py",
   "mimetype": "text/x-python",
   "name": "python",
   "nbconvert_exporter": "python",
   "pygments_lexer": "ipython3",
   "version": "3.12.4"
  }
 },
 "nbformat": 4,
 "nbformat_minor": 5
}
