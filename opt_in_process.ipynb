{
 "cells": [
  {
   "cell_type": "code",
   "execution_count": null,
   "id": "60d47fd8-4a27-49ce-8469-58856c318007",
   "metadata": {},
   "outputs": [],
   "source": [
    "# base_packs\n",
    "import numpy as np\n",
    "import pandas as pd\n",
    "import scipy.stats as stats\n",
    "import matplotlib.pyplot as plt\n",
    "import sklearn.preprocessing as skp\n",
    "import sklearn.decomposition as skd\n",
    "import statsmodels.api as sm\n",
    "import sklearn.manifold as skm\n",
    "import sklearn.cluster as skc\n",
    "from sklearn.model_selection import train_test_split\n",
    "from sklearn.metrics import confusion_matrix\n",
    "from sklearn.ensemble import IsolationForest\n",
    "import matplotlib.pyplot as plt\n",
    "from sklearn.linear_model import LinearRegression\n",
    "from sklearn.linear_model import LogisticRegression\n",
    "from sklearn.metrics import r2_score\n",
    "from statsmodels.stats.diagnostic import het_white\n",
    "import ruptures as rpt\n",
    "from sklearn.tree import DecisionTreeClassifier\n",
    "from sklearn.preprocessing import StandardScaler\n",
    "import seaborn as sns\n",
    "from sklearn.metrics import accuracy_score, classification_report\n",
    "import statsmodels.api as sm"
   ]
  },
  {
   "cell_type": "code",
   "execution_count": null,
   "id": "e91bf876-eb39-40d6-b3c0-c93956404062",
   "metadata": {},
   "outputs": [],
   "source": [
    "## clusterização pela tag para previsão:\n",
    "#As variáveis de optimização são do VOD_opt_lu_rodriguez.xlsx, sheet: VOD_analisis\n",
    "res = 'VOD_opt.xlsx'\n",
    "res = pd.read_excel(res, sheet_name='VOD_analisis')\n",
    "res"
   ]
  },
  {
   "cell_type": "code",
   "execution_count": null,
   "id": "ebeccd92-64ce-4b97-b2c9-2d7e25239127",
   "metadata": {},
   "outputs": [],
   "source": [
    "res.dropna(how = 'any', inplace = True)\n",
    "res_sig = res.loc[(res['P>|z|'] < 0.05 )]\n",
    "res_sig"
   ]
  },
  {
   "cell_type": "code",
   "execution_count": null,
   "id": "7c3df88a-ff6e-4075-b1b2-0b64be049b01",
   "metadata": {},
   "outputs": [],
   "source": [
    "dt_sig = dt.loc[(dt[''] > dt[''].mean())&\n",
    "    (dt[''] < dt[''].mean()) & \n",
    "        (dt[''] < dt[''].mean()) &\n",
    "            (dt[''] < dt[''].mean()) &\n",
    "                (dt[''] < dt[''].mean())]\n"
   ]
  },
  {
   "cell_type": "code",
   "execution_count": null,
   "id": "3608bb6d-f488-4e1f-8055-d14edd11a342",
   "metadata": {},
   "outputs": [],
   "source": [
    "dt_sig"
   ]
  },
  {
   "cell_type": "code",
   "execution_count": null,
   "id": "1bd2f00b-b077-421a-b98d-00efa25fb8e0",
   "metadata": {},
   "outputs": [],
   "source": [
    "dt['cluster'] = 0\n",
    "dt.loc[\n",
    "    (dt[''] < dt[''].mean()) & (dt[''] < dt[''].mean())\n",
    "    ,\n",
    "    'cluster'\n",
    "] = 1"
   ]
  },
  {
   "cell_type": "code",
   "execution_count": null,
   "id": "1dfc796e-3bd1-4a52-9abd-0ad185712df4",
   "metadata": {},
   "outputs": [],
   "source": [
    "## treatment:\n",
    "dt\n",
    "dt['cluster'].value_counts()"
   ]
  },
  {
   "cell_type": "code",
   "execution_count": null,
   "id": "b765c7f8-872f-45d9-9abd-abf46d333c1a",
   "metadata": {},
   "outputs": [],
   "source": [
    "## previsão e inferência\n",
    "dt.columns.to_numpy"
   ]
  },
  {
   "cell_type": "code",
   "execution_count": null,
   "id": "006102fb-2264-493c-992b-5fd036d4a9fd",
   "metadata": {},
   "outputs": [],
   "source": [
    "x = dt[[]]\n",
    "x = sm.add_constant(x)\n",
    "scaler = StandardScaler()\n",
    "x_scaled = scaler.fit_transform(x)\n",
    "\n",
    "y = dt['cluster']"
   ]
  },
  {
   "cell_type": "code",
   "execution_count": null,
   "id": "f987102d-53ab-4fcf-961a-4641b51ef0fe",
   "metadata": {},
   "outputs": [],
   "source": [
    "# prediction\n",
    "x_train, x_test, y_train, y_test = train_test_split(x_scaled, y, test_size=0.1, random_state=42)"
   ]
  },
  {
   "cell_type": "code",
   "execution_count": null,
   "id": "9d29bac5-e064-4b91-aaf6-377a96de3576",
   "metadata": {},
   "outputs": [],
   "source": [
    "model = LogisticRegression()\n",
    "model.fit(x_train, y_train)\n",
    "y_pred = model.predict(x_test)\n",
    "y_pred_prob = model.predict_proba(x_test)"
   ]
  },
  {
   "cell_type": "code",
   "execution_count": null,
   "id": "d9dc663f-4b59-482d-ad51-8370b37c43b8",
   "metadata": {},
   "outputs": [],
   "source": [
    "y_pred\n",
    "y_pred_prob"
   ]
  },
  {
   "cell_type": "code",
   "execution_count": null,
   "id": "4672d690-4539-4a30-8b51-0f7a81afbf2f",
   "metadata": {},
   "outputs": [],
   "source": [
    "#testes:\n",
    "accuracy = accuracy_score(y_test, y_pred)\n",
    "accuracy"
   ]
  },
  {
   "cell_type": "code",
   "execution_count": null,
   "id": "04c5a573-9a72-4c6c-88f3-980ef014eaf4",
   "metadata": {},
   "outputs": [],
   "source": [
    "## Com a configuração anterior, a liga vai sairá com os parametros que queremos?\n",
    "## Ou : Se a configuração anterior for mantida, a liga sairá com os parâmetros que queremos"
   ]
  },
  {
   "cell_type": "code",
   "execution_count": null,
   "id": "350961a1-53c6-4381-b598-bf1543241cb9",
   "metadata": {},
   "outputs": [],
   "source": [
    "## inferência causal:\n",
    "from sklearn.linear_model import LogisticRegression\n",
    "import statsmodels.discrete.discrete_model as sm\n",
    "model= sm.Logit(y,x)\n",
    "co =model.fit().params\n",
    "coe = pd.DataFrame(co)\n",
    "coe.columns = ['coeff']\n",
    "exp_coeff =   np.exp(coe)/(np.exp(coe) + 1) \n",
    "exp_coeff = pd.DataFrame(exp_coeff)\n",
    "exp_coeff.columns = ['exp_coeff']\n",
    "exp_coeff\n",
    "results = model.fit(cov_type='HC3' )\n",
    "results_summary = results.summary()\n",
    "results_as_html = results_summary.tables[1].as_html()\n",
    "df_results = pd.read_html(results_as_html, header=0, index_col=0)[0]\n",
    "df_results['exp_coeff'] = exp_coeff\n",
    "impact_var = df_results.loc[(df_results['P>|z|'] < 0.05 )]\n",
    "impact_var"
   ]
  }
 ],
 "metadata": {
  "kernelspec": {
   "display_name": "Python 3 (ipykernel)",
   "language": "python",
   "name": "python3"
  },
  "language_info": {
   "codemirror_mode": {
    "name": "ipython",
    "version": 3
   },
   "file_extension": ".py",
   "mimetype": "text/x-python",
   "name": "python",
   "nbconvert_exporter": "python",
   "pygments_lexer": "ipython3",
   "version": "3.12.4"
  }
 },
 "nbformat": 4,
 "nbformat_minor": 5
}
