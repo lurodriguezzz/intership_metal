{
 "cells": [
  {
   "cell_type": "code",
   "execution_count": null,
   "id": "335ec3b3-5aeb-453b-9ff6-c3a88657b4e4",
   "metadata": {},
   "outputs": [],
   "source": [
    "# base_packs\n",
    "import numpy as np\n",
    "import pandas as pd\n",
    "import scipy.stats as stats\n",
    "import matplotlib.pyplot as plt\n",
    "import sklearn.preprocessing as skp\n",
    "import sklearn.decomposition as skd\n",
    "import statsmodels.api as sm\n",
    "import sklearn.manifold as skm\n",
    "import sklearn.cluster as skc\n",
    "from sklearn.model_selection import train_test_split\n",
    "from sklearn.metrics import confusion_matrix\n",
    "from sklearn.ensemble import IsolationForest\n",
    "import matplotlib.pyplot as plt\n",
    "from sklearn.linear_model import LinearRegression\n",
    "from sklearn.metrics import r2_score\n",
    "from statsmodels.stats.diagnostic import het_white\n",
    "import ruptures as rpt\n",
    "from sklearn.tree import DecisionTreeClassifier\n",
    "from sklearn.preprocessing import StandardScaler\n",
    "import seaborn as sns\n"
   ]
  },
  {
   "cell_type": "code",
   "execution_count": null,
   "id": "32385d62-4d2e-4756-bf2f-b6cc7201ea32",
   "metadata": {},
   "outputs": [],
   "source": [
    "res = 'VOD_opt.xlsx'\n",
    "tag = 'VOD_opt_tag_processo.xlsx'\n",
    "res = pd.read_excel(res, sheet_name='VOD_analisis')\n",
    "res = pd.DataFrame(res)\n",
    "tag = pd.read_excel(tag)\n",
    "tag = pd.DataFrame(tag)\n"
   ]
  },
  {
   "cell_type": "code",
   "execution_count": null,
   "id": "e53c3619-ed8d-43b7-8b1f-bb6e10e6ea48",
   "metadata": {},
   "outputs": [],
   "source": [
    "res.dropna(how = 'any', inplace = True)\n",
    "res_sig = res.loc[(res['P>|z|'] < 0.05 )]\n",
    "res_sig"
   ]
  },
  {
   "cell_type": "code",
   "execution_count": null,
   "id": "91dce1ce-63c3-4eb6-b7ed-8328aa6622b7",
   "metadata": {},
   "outputs": [],
   "source": [
    "res_sig['Unnamed: 0']"
   ]
  },
  {
   "cell_type": "code",
   "execution_count": null,
   "id": "add61f4b-be5f-4aaf-8ae4-3231240c6317",
   "metadata": {},
   "outputs": [],
   "source": [
    "tag_sig = tag.loc[(tag[''] > tag[''].mean())&\n",
    "    (tag[''] < tag[''].mean()) & \n",
    "        (tag[''] < tag[''].mean()) &\n",
    "            (tag[''] < tag[''].mean()) &\n",
    "                (tag[''] < tag[''].mean())]\n"
   ]
  },
  {
   "cell_type": "code",
   "execution_count": null,
   "id": "48859d13-d344-4f82-b304-650dd4583105",
   "metadata": {},
   "outputs": [],
   "source": [
    "tag_sig"
   ]
  }
 ],
 "metadata": {
  "kernelspec": {
   "display_name": "Python 3 (ipykernel)",
   "language": "python",
   "name": "python3"
  },
  "language_info": {
   "codemirror_mode": {
    "name": "ipython",
    "version": 3
   },
   "file_extension": ".py",
   "mimetype": "text/x-python",
   "name": "python",
   "nbconvert_exporter": "python",
   "pygments_lexer": "ipython3",
   "version": "3.12.4"
  }
 },
 "nbformat": 4,
 "nbformat_minor": 5
}
