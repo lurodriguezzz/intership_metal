{
 "cells": [
  {
   "cell_type": "code",
   "execution_count": 2,
   "id": "5891b66e-4e45-45bf-b11b-d93a3ae1cbf8",
   "metadata": {},
   "outputs": [],
   "source": [
    "# base_packs\n",
    "import numpy as np\n",
    "import pandas as pd\n",
    "import scipy.stats as stats\n",
    "import matplotlib.pyplot as plt\n",
    "import sklearn.preprocessing as skp"
   ]
  },
  {
   "cell_type": "code",
   "execution_count": null,
   "id": "35589303-69a0-4709-9686-c538ed81bcad",
   "metadata": {},
   "outputs": [],
   "source": [
    "## SoftTweet\n",
    "# normalization (twitter)\n",
    "scaler = skp.MinMaxScaler( )\n",
    "p_norm = pd.DataFrame( scaler.fit_transform( df.values ), index = df.index, columns = df.columns)\n",
    "p_norm = p_norm.dropna(how='any')\n",
    "#stweet = np.log10(p_norm)/np.sum(np.log10(p_norm))\n",
    "stweet = max(np.log10(1.0 + p_norm), 0.0)"
   ]
  }
 ],
 "metadata": {
  "kernelspec": {
   "display_name": "Python 3 (ipykernel)",
   "language": "python",
   "name": "python3"
  },
  "language_info": {
   "codemirror_mode": {
    "name": "ipython",
    "version": 3
   },
   "file_extension": ".py",
   "mimetype": "text/x-python",
   "name": "python",
   "nbconvert_exporter": "python",
   "pygments_lexer": "ipython3",
   "version": "3.12.4"
  }
 },
 "nbformat": 4,
 "nbformat_minor": 5
}
