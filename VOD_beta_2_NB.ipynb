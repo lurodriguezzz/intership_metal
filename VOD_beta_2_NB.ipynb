{
 "cells": [
  {
   "cell_type": "code",
   "execution_count": 116,
   "metadata": {},
   "outputs": [],
   "source": [
    "#base_packs\n",
    "import numpy as np\n",
    "import pandas as pd\n",
    "import scipy.stats as stats\n",
    "import matplotlib.pyplot as plt\n",
    "import sklearn.preprocessing as skp\n",
    "import sklearn.decomposition as skd\n",
    "import statsmodels.api as sm\n",
    "import sklearn.manifold as skm\n",
    "import sklearn.cluster as skc\n",
    "from sklearn.model_selection import train_test_split\n",
    "from sklearn.metrics import confusion_matrix\n",
    "from sklearn.ensemble import IsolationForest\n",
    "import matplotlib.pyplot as plt\n",
    "from sklearn.linear_model import LinearRegression\n",
    "from sklearn.linear_model import LogisticRegression\n",
    "from sklearn.metrics import r2_score\n",
    "from statsmodels.stats.diagnostic import het_white\n",
    "import ruptures as rpt\n",
    "from sklearn.tree import DecisionTreeClassifier\n",
    "from sklearn.preprocessing import StandardScaler\n",
    "import seaborn as sns\n",
    "from sklearn.metrics import accuracy_score, classification_report\n",
    "import statsmodels.api as sm\n",
    "import sklearn.preprocessing as skp\n",
    "from sklearn.inspection import permutation_importance\n",
    "from sklearn.linear_model import LogisticRegression\n",
    "import statsmodels.discrete.discrete_model as sm\n",
    "from sklearn.cluster import KMeans\n",
    "import gc\n",
    "import warnings\n",
    "from scipy.optimize import OptimizeWarning\n",
    "import time\n",
    "import numpy as np\n",
    "import random\n",
    "from sklearn.preprocessing import RobustScaler, QuantileTransformer,MinMaxScaler\n",
    "from sklearn.metrics import calinski_harabasz_score\n",
    "from imblearn.over_sampling import SMOTE\n",
    "from sklearn.naive_bayes import GaussianNB"
   ]
  },
  {
   "cell_type": "code",
   "execution_count": 117,
   "metadata": {},
   "outputs": [],
   "source": [
    "dt = 'V:/Departamentos/DVM/Transformação Digital/Projetos/064 - Otimização de Processo com IA no VOD (Ciência de Dados)/VOD_JUL_2024.xlsx'\n",
    "dt = pd.read_excel(dt)\n",
    "dt = pd.DataFrame(dt)\n",
    "dt['Tempo de depressão de vácuo(min)'].replace(',' , '.', inplace = True)\n",
    "dt['Tempo de depressão de vácuo(min)']= pd.to_numeric(dt['Tempo de depressão de vácuo(min)'] , errors = 'coerce')\n",
    "\n",
    "dt['Teor de C após a descarburação(%)'].replace(',' , '.', inplace = True)\n",
    "dt['Teor de C após a descarburação(%)']= pd.to_numeric(dt['Teor de C após a descarburação(%)'] , errors = 'coerce')\n",
    "dt.drop(columns=['DATA', 'Agitação média do TruStir durante o sopro de O2','Agitação média do TruStir durante a descarburação'], inplace=True)\n",
    "dt.replace('Boa', 1 , inplace = True)\n",
    "dt.replace('Ruim', 0 , inplace = True)\n",
    "dt = pd.get_dummies(dt)\n",
    "for i in dt.columns:\n",
    "    median_value = dt[i].median()  \n",
    "    dt[i].fillna(median_value, inplace=True)\n",
    "dt = dt.replace({False: 0, True: 1})"
   ]
  },
  {
   "cell_type": "code",
   "execution_count": 657,
   "metadata": {},
   "outputs": [
    {
     "data": {
      "text/plain": [
       "Index(['Unnamed: 0', 'CORRIDA', 'Teor de C antes do VOD(%)',\n",
       "       'Teor de Cr antes do VOD(%)', 'Teor de Si antes do VOD(%)',\n",
       "       'Teor de Mn antes do VOD(%)', 'Teor de Ni antes do VOD(%)',\n",
       "       'Teor de Mo antes do VOD(%)', 'Temperatura do aço antes do VOD(°C)',\n",
       "       'Peso de aço antes do VOD(kg) ', 'Borda livre da panela(mm)',\n",
       "       'Vida de plug da panela', 'Vida da panela',\n",
       "       'Vazão média de argônio durante o sopro de O2(Nm3/h)',\n",
       "       'Pressão média de vácuo durante o sopro de O2(mbar)',\n",
       "       'Temperatura máxima dos gases durante o sopro de O2(°C)',\n",
       "       'Pressão final de vácuo do sopro de O2(mbar)',\n",
       "       'Tempo de depressão de vácuo(min)', 'Tempo total de descarburação(min)',\n",
       "       'Tempo abaixo de 10 mbar(min)',\n",
       "       'Vazão média de argônio durante a descarburação(Nm3/h)',\n",
       "       'Pressão final de vácuo na descarburação(mbar)',\n",
       "       '%CO no final da descarburação', 'Volume de O2 soprado(m3)',\n",
       "       'Teor de C após a descarburação(%)',\n",
       "       'Temperatura do aço após a descarburação(°C)', 'AÇO_VSM13',\n",
       "       'AÇO_VSM13C', 'opt'],\n",
       "      dtype='object')"
      ]
     },
     "execution_count": 657,
     "metadata": {},
     "output_type": "execute_result"
    }
   ],
   "source": [
    "dt.columns"
   ]
  },
  {
   "cell_type": "code",
   "execution_count": 118,
   "metadata": {},
   "outputs": [],
   "source": [
    "teste = 'C:/Users/S409478/Documents/vm_report_vo1727442932637.xls'\n",
    "teste = pd.read_excel(teste)\n",
    "teste = pd.DataFrame(teste)\n",
    "# Extract the first row and set as new header\n",
    "new_header = teste.iloc[0]\n",
    "teste = teste[1:]  # Drop the first row\n",
    "teste.columns = new_header  # Set new header\n",
    "\n",
    "# Reset index\n",
    "teste.reset_index(drop=True, inplace=True)\n",
    "\n",
    "# Function to format numbers\n",
    "def insert_decimal(x):\n",
    "    x_str = str(x)\n",
    "    \n",
    "    # Handle cases where there is already a decimal point\n",
    "    if '.' in x_str:\n",
    "        integer_part, decimal_part = x_str.split('.')\n",
    "        # If the integer part is shorter than 2 digits, just return as is\n",
    "        if len(integer_part) <= 3:\n",
    "            return x_str\n",
    "        # Otherwise, insert decimal point after the second-to-last digit\n",
    "        return integer_part[:-3] + '.' + integer_part[-3:] + (f\".{decimal_part}\" if decimal_part else \"\")\n",
    "    \n",
    "    # Handle integer values\n",
    "    if len(x_str) > 3:\n",
    "        return x_str[:-3] + '.' + x_str[-3:]\n",
    "    return x_str\n",
    "\n",
    "# Apply the function to each element in the DataFrame column\n",
    "teste['Tempo abaixo de 10 mbar(min)'] = teste['Tempo abaixo de 10 mbar(min)'].apply(insert_decimal)\n",
    "#teste['Tempo de depressão de vácuo(min)'].replace(',' , '.', inplace = True)\n",
    "teste.drop(columns=['DATA', 'Agitação média do TruStir durante o sopro de O2','Agitação média do TruStir durante a descarburação','AÇO'], inplace=True)\n",
    "#teste = pd.to_numeric(teste, errors='coerce')\n",
    "teste = teste.apply(pd.to_numeric, errors='coerce')\n",
    "teste = teste.dropna(how = 'any')\n",
    "teste = teste.reset_index(drop=True)"
   ]
  },
  {
   "cell_type": "code",
   "execution_count": 119,
   "metadata": {},
   "outputs": [],
   "source": [
    "#priorizar o teor de c após a descarburação na otimização.\n",
    "# optimização:\n",
    "dt['opt'] = 0\n",
    "dt.loc[\n",
    "    (dt['Teor de C após a descarburação(%)'] < 0.009) &\n",
    "(dt['Temperatura do aço após a descarburação(°C)'] >= 1680) &\n",
    "(dt['Temperatura do aço após a descarburação(°C)'] <= 1700)\n",
    "    ,\n",
    "    'opt'\n",
    "] = 1\n"
   ]
  },
  {
   "cell_type": "code",
   "execution_count": 120,
   "metadata": {},
   "outputs": [],
   "source": [
    "#priorizar o teor de c após a descarburação na otimização.\n",
    "# optimização:\n",
    "teste['opt'] = 0\n",
    "teste.loc[\n",
    "    (teste['Teor de C após a descarburação(%)'] < 0.009) &\n",
    "(teste['Temperatura do aço após a descarburação(°C)'] >= 1680) &\n",
    "(teste['Temperatura do aço após a descarburação(°C)'] <= 1700)\n",
    "    ,\n",
    "    'opt'\n",
    "] = 1"
   ]
  },
  {
   "cell_type": "code",
   "execution_count": 545,
   "metadata": {},
   "outputs": [
    {
     "name": "stdout",
     "output_type": "stream",
     "text": [
      "[0.] Index([28], dtype='int64')\n"
     ]
    }
   ],
   "source": [
    "print(y_pred_tt2_prob, ent_.index)"
   ]
  },
  {
   "cell_type": "code",
   "execution_count": 546,
   "metadata": {},
   "outputs": [
    {
     "data": {
      "text/plain": [
       "array([[  3.52158189, 400.        ,   9.65057301,   4.55      ,\n",
       "        115.39118253]])"
      ]
     },
     "execution_count": 546,
     "metadata": {},
     "output_type": "execute_result"
    }
   ],
   "source": [
    "stp_n = tt2[columns_control].values\n",
    "stp_n"
   ]
  },
  {
   "cell_type": "code",
   "execution_count": 543,
   "metadata": {},
   "outputs": [
    {
     "data": {
      "text/plain": [
       "[[4.9, 470.6, 15.267, 6.2, 212.0]]"
      ]
     },
     "execution_count": 543,
     "metadata": {},
     "output_type": "execute_result"
    }
   ],
   "source": [
    "stp"
   ]
  },
  {
   "cell_type": "code",
   "execution_count": 220,
   "metadata": {},
   "outputs": [],
   "source": [
    "from imblearn.over_sampling import ADASYN\n",
    "\n",
    "# Assuming X is your feature set and y is your target variable\n",
    "adasyn = ADASYN(sampling_strategy='auto')\n",
    "x_resampled, y_resampled = adasyn.fit_resample(x_,y_)"
   ]
  },
  {
   "cell_type": "code",
   "execution_count": 678,
   "metadata": {},
   "outputs": [
    {
     "name": "stdout",
     "output_type": "stream",
     "text": [
      "[1] Index([20], dtype='int64') [[0.24374128 0.75625872]]\n"
     ]
    }
   ],
   "source": [
    "#NAIVE_BAYES:\n",
    "#Primeira volta:\n",
    "# Initialize the Gaussian Naive Bayes classifier\n",
    "# Required columns for the model\n",
    "warnings.filterwarnings('ignore')\n",
    "\n",
    "\n",
    "required_columns = [\n",
    "   'Teor de C antes do VOD(%)', 'Teor de Cr antes do VOD(%)',\n",
    "    'Teor de Si antes do VOD(%)', 'Teor de Mn antes do VOD(%)',\n",
    "    'Teor de Ni antes do VOD(%)', 'Teor de Mo antes do VOD(%)',\n",
    "    'Temperatura do aço antes do VOD(°C)','Peso de aço antes do VOD(kg) ',\n",
    "    'Borda livre da panela(mm)', 'Vida de plug da panela', 'Vida da panela',\n",
    "    'Vazão média de argônio durante o sopro de O2(Nm3/h)',\n",
    "    'Pressão média de vácuo durante o sopro de O2(mbar)',\n",
    "    'Tempo abaixo de 10 mbar(min)',\n",
    "    'Vazão média de argônio durante a descarburação(Nm3/h)',\n",
    "    'Volume de O2 soprado(m3)','Tempo total de descarburação(min)']\n",
    "\n",
    "# Define control DataFrame\n",
    "columns_control = [\n",
    "   'Vazão média de argônio durante o sopro de O2(Nm3/h)',\n",
    "    'Pressão média de vácuo durante o sopro de O2(mbar)',\n",
    "    'Tempo abaixo de 10 mbar(min)',\n",
    "    'Vazão média de argônio durante a descarburação(Nm3/h)',\n",
    "    'Volume de O2 soprado(m3)','Tempo total de descarburação(min)']\n",
    "\n",
    "\n",
    "# Example control values\n",
    "stp = [[4.9   , 435.2   ,  18.083 ,   6.22  , 154.    ,  22.3667]]\n",
    "contr = pd.DataFrame(stp, columns=columns_control)\n",
    "\n",
    "# Prepare input DataFrame\n",
    "ent = teste[['Teor de C antes do VOD(%)',\n",
    "       'Teor de Cr antes do VOD(%)', 'Teor de Si antes do VOD(%)',\n",
    "       'Teor de Mn antes do VOD(%)', 'Teor de Ni antes do VOD(%)','Teor de Mo antes do VOD(%)',\n",
    "          'Temperatura do aço antes do VOD(°C)',\n",
    "       'Peso de aço antes do VOD(kg) ', 'Borda livre da panela(mm)',\n",
    "       'Vida de plug da panela', 'Vida da panela']]\n",
    "\n",
    "#ent_ = ent.sample(n=1)\n",
    "\n",
    "# Combine control and input data\n",
    "contr.reset_index(drop=True, inplace=True)\n",
    "tt2 = pd.concat([ent_, contr], axis=1)\n",
    "tt2.fillna(0, inplace=True)\n",
    "tt2 = pd.DataFrame(tt2.sum()).T\n",
    "# Predicting on tt2\n",
    "\n",
    "tt2_features = tt2.values\n",
    "# Prepare test data for predictions\n",
    "tt2_test = tt2[columns_control]\n",
    "\n",
    "# Prepare Data for training\n",
    "x_ = dt[required_columns]\n",
    "y_ = dt['opt']\n",
    "scaler = RobustScaler()\n",
    "x_scaled = scaler.fit_transform(x_)\n",
    "\n",
    "# Split the data\n",
    "\n",
    "gnb = GaussianNB()\n",
    "#x_tr, x_tes, y_tr, y_tes = train_test_split(x_, y_, test_size=0.2, random_state=42)\n",
    "# Fit the model on the training data\n",
    "gnb.fit(x_ , y_)\n",
    "\n",
    "# Make predictions on the test data\n",
    "y_pred = gnb.predict(tt2_features)\n",
    "y_prob = gnb.predict_proba(tt2_features)\n",
    "print(y_pred, ent_.index, y_prob)"
   ]
  },
  {
   "cell_type": "code",
   "execution_count": 679,
   "metadata": {},
   "outputs": [
    {
     "data": {
      "text/html": [
       "<div>\n",
       "<style scoped>\n",
       "    .dataframe tbody tr th:only-of-type {\n",
       "        vertical-align: middle;\n",
       "    }\n",
       "\n",
       "    .dataframe tbody tr th {\n",
       "        vertical-align: top;\n",
       "    }\n",
       "\n",
       "    .dataframe thead th {\n",
       "        text-align: right;\n",
       "    }\n",
       "</style>\n",
       "<table border=\"1\" class=\"dataframe\">\n",
       "  <thead>\n",
       "    <tr style=\"text-align: right;\">\n",
       "      <th></th>\n",
       "      <th>opt</th>\n",
       "      <th>Teor de C após a descarburação(%)</th>\n",
       "      <th>Temperatura do aço após a descarburação(°C)</th>\n",
       "    </tr>\n",
       "  </thead>\n",
       "  <tbody>\n",
       "    <tr>\n",
       "      <th>20</th>\n",
       "      <td>1</td>\n",
       "      <td>0.006</td>\n",
       "      <td>1694.0</td>\n",
       "    </tr>\n",
       "  </tbody>\n",
       "</table>\n",
       "</div>"
      ],
      "text/plain": [
       "0   opt  Teor de C após a descarburação(%)  \\\n",
       "20    1                              0.006   \n",
       "\n",
       "0   Temperatura do aço após a descarburação(°C)  \n",
       "20                                       1694.0  "
      ]
     },
     "execution_count": 679,
     "metadata": {},
     "output_type": "execute_result"
    }
   ],
   "source": [
    "teste.iloc[ent_.index][['opt', 'Teor de C após a descarburação(%)', 'Temperatura do aço após a descarburação(°C)']]"
   ]
  },
  {
   "cell_type": "code",
   "execution_count": 680,
   "metadata": {},
   "outputs": [
    {
     "data": {
      "text/plain": [
       "array([[  4.9   , 435.2   ,  18.083 ,   6.22  , 154.    ,  22.3667]])"
      ]
     },
     "execution_count": 680,
     "metadata": {},
     "output_type": "execute_result"
    }
   ],
   "source": [
    "teste.iloc[ent_.index][columns_control].values"
   ]
  },
  {
   "cell_type": "code",
   "execution_count": 413,
   "metadata": {},
   "outputs": [
    {
     "data": {
      "text/plain": [
       "Index(['Teor de C antes do VOD(%)', 'Teor de Cr antes do VOD(%)',\n",
       "       'Teor de Si antes do VOD(%)', 'Teor de Mn antes do VOD(%)',\n",
       "       'Teor de Ni antes do VOD(%)', 'Teor de Mo antes do VOD(%)',\n",
       "       'Temperatura do aço antes do VOD(°C)', 'Peso de aço antes do VOD(kg) ',\n",
       "       'Borda livre da panela(mm)', 'Vida de plug da panela', 'Vida da panela',\n",
       "       'Tempo total de descarburação(min)',\n",
       "       'Vazão média de argônio durante o sopro de O2(Nm3/h)',\n",
       "       'Pressão média de vácuo durante o sopro de O2(mbar)',\n",
       "       'Tempo abaixo de 10 mbar(min)',\n",
       "       'Vazão média de argônio durante a descarburação(Nm3/h)',\n",
       "       'Volume de O2 soprado(m3)',\n",
       "       'Temperatura máxima dos gases durante o sopro de O2(°C)',\n",
       "       'Pressão final de vácuo do sopro de O2(mbar)',\n",
       "       'Tempo de depressão de vácuo(min)',\n",
       "       'Pressão final de vácuo na descarburação(mbar)'],\n",
       "      dtype='object')"
      ]
     },
     "execution_count": 413,
     "metadata": {},
     "output_type": "execute_result"
    }
   ],
   "source": [
    "x_.columns"
   ]
  },
  {
   "cell_type": "code",
   "execution_count": 416,
   "metadata": {},
   "outputs": [],
   "source": [
    "means = gnb.theta_\n",
    "var = gnb.var_\n",
    "cv = var/means"
   ]
  },
  {
   "cell_type": "code",
   "execution_count": 399,
   "metadata": {},
   "outputs": [
    {
     "data": {
      "text/plain": [
       "array([[  4.9  , 487.1  ,  18.55 ,   6.07 , 202.   , 373.13 , 264.41 ,\n",
       "          6.783,   1.62 ]])"
      ]
     },
     "execution_count": 399,
     "metadata": {},
     "output_type": "execute_result"
    }
   ],
   "source": [
    "teste.iloc[ent_.index][columns_control].values"
   ]
  },
  {
   "cell_type": "code",
   "execution_count": 573,
   "metadata": {},
   "outputs": [
    {
     "data": {
      "text/html": [
       "<div>\n",
       "<style scoped>\n",
       "    .dataframe tbody tr th:only-of-type {\n",
       "        vertical-align: middle;\n",
       "    }\n",
       "\n",
       "    .dataframe tbody tr th {\n",
       "        vertical-align: top;\n",
       "    }\n",
       "\n",
       "    .dataframe thead th {\n",
       "        text-align: right;\n",
       "    }\n",
       "</style>\n",
       "<table border=\"1\" class=\"dataframe\">\n",
       "  <thead>\n",
       "    <tr style=\"text-align: right;\">\n",
       "      <th></th>\n",
       "      <th>opt</th>\n",
       "      <th>Teor de C após a descarburação(%)</th>\n",
       "      <th>Temperatura do aço após a descarburação(°C)</th>\n",
       "    </tr>\n",
       "  </thead>\n",
       "  <tbody>\n",
       "    <tr>\n",
       "      <th>18</th>\n",
       "      <td>1</td>\n",
       "      <td>0.004</td>\n",
       "      <td>1694.0</td>\n",
       "    </tr>\n",
       "  </tbody>\n",
       "</table>\n",
       "</div>"
      ],
      "text/plain": [
       "0   opt  Teor de C após a descarburação(%)  \\\n",
       "18    1                              0.004   \n",
       "\n",
       "0   Temperatura do aço após a descarburação(°C)  \n",
       "18                                       1694.0  "
      ]
     },
     "execution_count": 573,
     "metadata": {},
     "output_type": "execute_result"
    }
   ],
   "source": [
    "teste.iloc[ent_.index][['opt', 'Teor de C após a descarburação(%)', 'Temperatura do aço após a descarburação(°C)']]\n"
   ]
  },
  {
   "cell_type": "code",
   "execution_count": 527,
   "metadata": {},
   "outputs": [
    {
     "data": {
      "text/html": [
       "<div>\n",
       "<style scoped>\n",
       "    .dataframe tbody tr th:only-of-type {\n",
       "        vertical-align: middle;\n",
       "    }\n",
       "\n",
       "    .dataframe tbody tr th {\n",
       "        vertical-align: top;\n",
       "    }\n",
       "\n",
       "    .dataframe thead th {\n",
       "        text-align: right;\n",
       "    }\n",
       "</style>\n",
       "<table border=\"1\" class=\"dataframe\">\n",
       "  <thead>\n",
       "    <tr style=\"text-align: right;\">\n",
       "      <th></th>\n",
       "      <th>Vazão média de argônio durante o sopro de O2(Nm3/h)</th>\n",
       "      <th>Pressão média de vácuo durante o sopro de O2(mbar)</th>\n",
       "      <th>Tempo abaixo de 10 mbar(min)</th>\n",
       "      <th>Vazão média de argônio durante a descarburação(Nm3/h)</th>\n",
       "      <th>Volume de O2 soprado(m3)</th>\n",
       "    </tr>\n",
       "  </thead>\n",
       "  <tbody>\n",
       "    <tr>\n",
       "      <th>0</th>\n",
       "      <td>3.521582</td>\n",
       "      <td>400.0</td>\n",
       "      <td>9.650573</td>\n",
       "      <td>4.55</td>\n",
       "      <td>115.391183</td>\n",
       "    </tr>\n",
       "  </tbody>\n",
       "</table>\n",
       "</div>"
      ],
      "text/plain": [
       "   Vazão média de argônio durante o sopro de O2(Nm3/h)  \\\n",
       "0                                           3.521582     \n",
       "\n",
       "   Pressão média de vácuo durante o sopro de O2(mbar)  \\\n",
       "0                                              400.0    \n",
       "\n",
       "   Tempo abaixo de 10 mbar(min)  \\\n",
       "0                      9.650573   \n",
       "\n",
       "   Vazão média de argônio durante a descarburação(Nm3/h)  \\\n",
       "0                                               4.55       \n",
       "\n",
       "   Volume de O2 soprado(m3)  \n",
       "0                115.391183  "
      ]
     },
     "execution_count": 527,
     "metadata": {},
     "output_type": "execute_result"
    }
   ],
   "source": [
    "tt2[columns_control]"
   ]
  },
  {
   "cell_type": "code",
   "execution_count": 681,
   "metadata": {},
   "outputs": [
    {
     "name": "stdout",
     "output_type": "stream",
     "text": [
      "Iteration: 1, Time elapsed: 0.00 seconds\n",
      "Predictions on tt2:\n",
      "   Predicted_Probability  Predicted_Class\n",
      "0               0.094245                0\n",
      "Iteration: 2, Time elapsed: 0.23 seconds\n",
      "Predictions on tt2:\n",
      "   Predicted_Probability  Predicted_Class\n",
      "0               0.350776                0\n",
      "Iteration: 3, Time elapsed: 0.51 seconds\n",
      "Predictions on tt2:\n",
      "   Predicted_Probability  Predicted_Class\n",
      "0           1.736332e-13                0\n",
      "Iteration: 4, Time elapsed: 0.74 seconds\n",
      "Predictions on tt2:\n",
      "   Predicted_Probability  Predicted_Class\n",
      "0               0.002983                0\n",
      "Iteration: 5, Time elapsed: 0.99 seconds\n",
      "Predictions on tt2:\n",
      "   Predicted_Probability  Predicted_Class\n",
      "0               0.000109                0\n",
      "Iteration: 6, Time elapsed: 1.26 seconds\n",
      "Predictions on tt2:\n",
      "   Predicted_Probability  Predicted_Class\n",
      "0           4.252141e-11                0\n",
      "Iteration: 7, Time elapsed: 1.53 seconds\n",
      "Predictions on tt2:\n",
      "   Predicted_Probability  Predicted_Class\n",
      "0           5.917421e-23                0\n",
      "Iteration: 8, Time elapsed: 1.80 seconds\n",
      "Predictions on tt2:\n",
      "   Predicted_Probability  Predicted_Class\n",
      "0           7.999308e-08                0\n",
      "Iteration: 9, Time elapsed: 2.04 seconds\n",
      "Predictions on tt2:\n",
      "   Predicted_Probability  Predicted_Class\n",
      "0                0.99969                1\n"
     ]
    }
   ],
   "source": [
    "# WITH NAIVE-BAYES:\n",
    "import numpy as np\n",
    "import pandas as pd\n",
    "from sklearn.model_selection import train_test_split\n",
    "from sklearn.naive_bayes import GaussianNB\n",
    "import time\n",
    "import warnings\n",
    "import gc\n",
    "\n",
    "# Initialize the loop variables\n",
    "warnings.filterwarnings('ignore')\n",
    "condition_met = False\n",
    "start_time = time.time()\n",
    "time_limit = 10\n",
    "iteration = 0\n",
    "\n",
    "# Define constraints\n",
    "constraints = {\n",
    "    'Tempo abaixo de 10 mbar(min)': (9.650573007040464, 23),\n",
    "    'Vazão média de argônio durante o sopro de O2(Nm3/h)': (3.5215818863059383, 6.8251891508760565),\n",
    "    'Pressão média de vácuo durante o sopro de O2(mbar)': (400, 693.3164964745301),\n",
    "    'Volume de O2 soprado(m3)': (115.39118253104017, 248.45226169596572),\n",
    "    'Vazão média de argônio durante a descarburação(Nm3/h)': (4.55, 7.87)\n",
    "}\n",
    "\n",
    "while not condition_met:\n",
    "    try:\n",
    "        # Track elapsed time\n",
    "        elapsed_time = time.time() - start_time\n",
    "        if elapsed_time > time_limit:\n",
    "            print(\"Time limit exceeded. Stopping the loop.\")\n",
    "            break\n",
    "\n",
    "        iteration += 1\n",
    "        print(f\"Iteration: {iteration}, Time elapsed: {elapsed_time:.2f} seconds\")\n",
    "\n",
    "        # Reset index for contr DataFrame\n",
    "        contr.reset_index(drop=True, inplace=True)\n",
    "\n",
    "        # Concatenate and process DataFrames\n",
    "        tt2 = pd.concat([ent_, contr], axis=1)\n",
    "        tt2.fillna(0, inplace=True)\n",
    "        tt2 = pd.DataFrame(tt2.sum()).T\n",
    "        \n",
    "        # Apply constraints efficiently\n",
    "        for col, (a_min, a_max) in constraints.items():\n",
    "            if col in tt2.columns:\n",
    "                tt2[col] = np.clip(tt2[col], a_min=a_min, a_max=a_max)\n",
    "\n",
    "        \n",
    "            required_columns = [\n",
    "    'Teor de C antes do VOD(%)', 'Teor de Cr antes do VOD(%)',\n",
    "    'Teor de Si antes do VOD(%)', 'Teor de Mn antes do VOD(%)',\n",
    "    'Teor de Ni antes do VOD(%)', 'Teor de Mo antes do VOD(%)',\n",
    "    'Temperatura do aço antes do VOD(°C)','Peso de aço antes do VOD(kg) ',\n",
    "    'Borda livre da panela(mm)', 'Vida de plug da panela', 'Vida da panela',\n",
    "    'Vazão média de argônio durante o sopro de O2(Nm3/h)',\n",
    "    'Pressão média de vácuo durante o sopro de O2(mbar)',\n",
    "    'Tempo abaixo de 10 mbar(min)',\n",
    "    'Vazão média de argônio durante a descarburação(Nm3/h)',\n",
    "    'Volume de O2 soprado(m3)','Tempo total de descarburação(min)']\n",
    "\n",
    "        \n",
    "\n",
    "        tt2_test = tt2[required_columns]\n",
    "\n",
    "        x_ = dt[required_columns]\n",
    "        y_ = dt['opt']  \n",
    "\n",
    "        x_train_3, x_test_3, y_train_3, y_test_3 = train_test_split(x_, y_ ,test_size=0.9)\n",
    "\n",
    "        # Fit Gaussian Naive Bayes\n",
    "        gnb = GaussianNB()\n",
    "        gnb.fit(x_train_3, y_train_3)\n",
    "\n",
    "        # Predicting on tt2\n",
    "        tt2_features = tt2_test[required_columns].values\n",
    "        y_pred_tt2_prob = gnb.predict_proba(tt2_features)[:, 1]  # Probability of the positive class\n",
    "        y_pred_tt2_binary = (y_pred_tt2_prob >= 0.5).astype(int)\n",
    "\n",
    "        # Display predictions for tt2\n",
    "        tt2['Predicted_Probability'] = y_pred_tt2_prob\n",
    "        tt2['Predicted_Class'] = y_pred_tt2_binary\n",
    "\n",
    "        print(\"Predictions on tt2:\")\n",
    "        print(tt2[['Predicted_Probability', 'Predicted_Class']])\n",
    "\n",
    "        # Calculate results\n",
    "        results_list = []\n",
    "        for i in required_columns:\n",
    "            if i in constraints:\n",
    "                correction = tt2_test[i].median()\n",
    "                # Impact can be derived from the predicted probabilities\n",
    "                impact = (y_pred_tt2_prob.mean() - 0.5) * correction\n",
    "                results_list.append({'Column': i, 'Alteração': impact})\n",
    "\n",
    "        results_df_ = pd.DataFrame(results_list).T\n",
    "        results_df_.columns = results_df_.iloc[0]\n",
    "        results_df_ = results_df_[1:]\n",
    "\n",
    "        # Common columns\n",
    "        common_columns = list(set(constraints.keys()) & set(results_df_.columns))\n",
    "        contr_common = contr[common_columns]\n",
    "        results_common = results_df_[common_columns]\n",
    "\n",
    "        # Combine and update\n",
    "        combined_df = pd.concat([contr_common, results_common], ignore_index=True)\n",
    "        final = combined_df.sum().reset_index()\n",
    "        final_df = final.T\n",
    "        final_df.columns = final_df.iloc[0]\n",
    "        final_df = final_df[1:]\n",
    "\n",
    "        contr.update(final_df[common_columns])\n",
    "        contr.reset_index(drop=True, inplace=True)\n",
    "\n",
    "        # Garbage collection\n",
    "        gc.collect()\n",
    "\n",
    "        # Check condition\n",
    "        if np.all(y_pred >= 0.99) and np.all(y_pred_tt2_binary == 1):\n",
    "            condition_met = True\n",
    "\n",
    "    except Exception as e:\n",
    "        print(f\"An error occurred: {e}\")\n",
    "        continue\n"
   ]
  },
  {
   "cell_type": "code",
   "execution_count": 634,
   "metadata": {},
   "outputs": [
    {
     "name": "stdout",
     "output_type": "stream",
     "text": [
      "Iteration: 1, Time elapsed: 0.00 seconds\n",
      "Predictions on tt2:\n",
      "   Predicted_Probability  Predicted_Class\n",
      "0                    0.0                0\n",
      "Iteration: 2, Time elapsed: 0.24 seconds\n",
      "Predictions on tt2:\n",
      "   Predicted_Probability  Predicted_Class\n",
      "0                    0.0                0\n",
      "Iteration: 3, Time elapsed: 0.48 seconds\n",
      "Predictions on tt2:\n",
      "   Predicted_Probability  Predicted_Class\n",
      "0                    0.0                0\n",
      "Iteration: 4, Time elapsed: 0.70 seconds\n",
      "Predictions on tt2:\n",
      "   Predicted_Probability  Predicted_Class\n",
      "0                    0.0                0\n",
      "Iteration: 5, Time elapsed: 0.92 seconds\n",
      "Predictions on tt2:\n",
      "   Predicted_Probability  Predicted_Class\n",
      "0                    1.0                1\n"
     ]
    }
   ],
   "source": [
    "# WITH NAIVE-BAYES:\n",
    "import numpy as np\n",
    "import pandas as pd\n",
    "from sklearn.model_selection import train_test_split\n",
    "from sklearn.naive_bayes import GaussianNB\n",
    "import time\n",
    "import warnings\n",
    "import gc\n",
    "\n",
    "# Initialize the loop variables\n",
    "warnings.filterwarnings('ignore')\n",
    "condition_met = False\n",
    "start_time = time.time()\n",
    "time_limit = 10\n",
    "iteration = 0\n",
    "\n",
    "# Define constraints\n",
    "constraints = {\n",
    "    'Tempo abaixo de 10 mbar(min)': (9.650573007040464, 23),\n",
    "    'Vazão média de argônio durante o sopro de O2(Nm3/h)': (3.5215818863059383, 6.8251891508760565),\n",
    "    'Pressão média de vácuo durante o sopro de O2(mbar)': (400, 693.3164964745301),\n",
    "    'Volume de O2 soprado(m3)': (115.39118253104017, 248.45226169596572),\n",
    "    'Vazão média de argônio durante a descarburação(Nm3/h)': (4.55, 7.87)\n",
    "}\n",
    "\n",
    "while not condition_met:\n",
    "    try:\n",
    "        # Track elapsed time\n",
    "        elapsed_time = time.time() - start_time\n",
    "        if elapsed_time > time_limit:\n",
    "            print(\"Time limit exceeded. Stopping the loop.\")\n",
    "            break\n",
    "\n",
    "        iteration += 1\n",
    "        print(f\"Iteration: {iteration}, Time elapsed: {elapsed_time:.2f} seconds\")\n",
    "\n",
    "        # Reset index for contr DataFrame\n",
    "        contr.reset_index(drop=True, inplace=True)\n",
    "\n",
    "        # Concatenate and process DataFrames\n",
    "        tt2 = pd.concat([ent_, contr], axis=1)\n",
    "        tt2.fillna(0, inplace=True)\n",
    "        tt2 = pd.DataFrame(tt2.sum()).T\n",
    "        \n",
    "        # Apply constraints efficiently\n",
    "        for col, (a_min, a_max) in constraints.items():\n",
    "            if col in tt2.columns:\n",
    "                tt2[col] = np.clip(tt2[col], a_min=a_min, a_max=a_max)\n",
    "\n",
    "        \n",
    "            required_columns = [\n",
    "    'Teor de C antes do VOD(%)', 'Teor de Cr antes do VOD(%)',\n",
    "    'Teor de Si antes do VOD(%)', 'Teor de Mn antes do VOD(%)',\n",
    "    'Teor de Ni antes do VOD(%)', 'Teor de Mo antes do VOD(%)',\n",
    "    'Temperatura do aço antes do VOD(°C)','Peso de aço antes do VOD(kg) ',\n",
    "    'Borda livre da panela(mm)', 'Vida de plug da panela', 'Vida da panela','Tempo total de descarburação(min)',\n",
    "    'Vazão média de argônio durante o sopro de O2(Nm3/h)',\n",
    "    'Pressão média de vácuo durante o sopro de O2(mbar)',\n",
    "    'Tempo abaixo de 10 mbar(min)',\n",
    "    'Vazão média de argônio durante a descarburação(Nm3/h)',\n",
    "    'Volume de O2 soprado(m3)']\n",
    "\n",
    "        \n",
    "\n",
    "        tt2_test = tt2[required_columns]\n",
    "\n",
    "        x_ = dt[required_columns]\n",
    "        y_ = dt['opt']  \n",
    "\n",
    "        x_train_3, x_test_3, y_train_3, y_test_3 = train_test_split(x_resampled, y_resampled, test_size=0.9)\n",
    "\n",
    "        # Fit Gaussian Naive Bayes\n",
    "        gnb = GaussianNB()\n",
    "        gnb.fit(x_train_3, y_train_3)\n",
    "\n",
    "        # Predicting on tt2\n",
    "        tt2_features = tt2_test[required_columns].values\n",
    "        y_pred_tt2_prob = gnb.predict_proba(tt2_features)[:, 1]  # Probability of the positive class\n",
    "        y_pred_tt2_binary = (y_pred_tt2_prob >= 0.5).astype(int)\n",
    "\n",
    "        # Display predictions for tt2\n",
    "        tt2['Predicted_Probability'] = y_pred_tt2_prob\n",
    "        tt2['Predicted_Class'] = y_pred_tt2_binary\n",
    "\n",
    "        print(\"Predictions on tt2:\")\n",
    "        print(tt2[['Predicted_Probability', 'Predicted_Class']])\n",
    "\n",
    "        # Calculate results\n",
    "        results_list = []\n",
    "        for i in required_columns:\n",
    "            if i in constraints:\n",
    "                correction = tt2_test[i].mean()\n",
    "                # Impact can be derived from the predicted probabilities\n",
    "                impact = (y_pred_tt2_prob.mean() - 0.5) * correction\n",
    "                results_list.append({'Column': i, 'Alteração': impact})\n",
    "\n",
    "        results_df_ = pd.DataFrame(results_list).T\n",
    "        results_df_.columns = results_df_.iloc[0]\n",
    "        results_df_ = results_df_[1:]\n",
    "\n",
    "        # Common columns\n",
    "        common_columns = list(set(constraints.keys()) & set(results_df_.columns))\n",
    "        contr_common = contr[common_columns]\n",
    "        results_common = results_df_[common_columns]\n",
    "\n",
    "        # Combine and update\n",
    "        combined_df = pd.concat([contr_common, results_common], ignore_index=True)\n",
    "        final = combined_df.sum().reset_index()\n",
    "        final_df = final.T\n",
    "        final_df.columns = final_df.iloc[0]\n",
    "        final_df = final_df[1:]\n",
    "\n",
    "        contr.update(final_df[common_columns])\n",
    "        contr.reset_index(drop=True, inplace=True)\n",
    "\n",
    "        # Garbage collection\n",
    "        gc.collect()\n",
    "\n",
    "        # Check condition\n",
    "        if np.all(y_pred >= 0.99) and np.all(y_pred_tt2_binary == 1):\n",
    "            condition_met = True\n",
    "\n",
    "    except Exception as e:\n",
    "        print(f\"An error occurred: {e}\")\n",
    "        continue\n"
   ]
  },
  {
   "cell_type": "code",
   "execution_count": 682,
   "metadata": {},
   "outputs": [
    {
     "data": {
      "text/plain": [
       "[[4.9, 435.2, 18.083, 6.22, 154.0, 22.3667]]"
      ]
     },
     "execution_count": 682,
     "metadata": {},
     "output_type": "execute_result"
    }
   ],
   "source": [
    "stp"
   ]
  },
  {
   "cell_type": "code",
   "execution_count": 683,
   "metadata": {},
   "outputs": [
    {
     "data": {
      "text/html": [
       "<div>\n",
       "<style scoped>\n",
       "    .dataframe tbody tr th:only-of-type {\n",
       "        vertical-align: middle;\n",
       "    }\n",
       "\n",
       "    .dataframe tbody tr th {\n",
       "        vertical-align: top;\n",
       "    }\n",
       "\n",
       "    .dataframe thead th {\n",
       "        text-align: right;\n",
       "    }\n",
       "</style>\n",
       "<table border=\"1\" class=\"dataframe\">\n",
       "  <thead>\n",
       "    <tr style=\"text-align: right;\">\n",
       "      <th></th>\n",
       "      <th>Vazão média de argônio durante o sopro de O2(Nm3/h)</th>\n",
       "      <th>Pressão média de vácuo durante o sopro de O2(mbar)</th>\n",
       "      <th>Tempo abaixo de 10 mbar(min)</th>\n",
       "      <th>Vazão média de argônio durante a descarburação(Nm3/h)</th>\n",
       "      <th>Volume de O2 soprado(m3)</th>\n",
       "      <th>Tempo total de descarburação(min)</th>\n",
       "    </tr>\n",
       "  </thead>\n",
       "  <tbody>\n",
       "    <tr>\n",
       "      <th>0</th>\n",
       "      <td>3.521582</td>\n",
       "      <td>400.0</td>\n",
       "      <td>9.650573</td>\n",
       "      <td>4.55</td>\n",
       "      <td>115.391183</td>\n",
       "      <td>22.3667</td>\n",
       "    </tr>\n",
       "  </tbody>\n",
       "</table>\n",
       "</div>"
      ],
      "text/plain": [
       "   Vazão média de argônio durante o sopro de O2(Nm3/h)  \\\n",
       "0                                           3.521582     \n",
       "\n",
       "   Pressão média de vácuo durante o sopro de O2(mbar)  \\\n",
       "0                                              400.0    \n",
       "\n",
       "   Tempo abaixo de 10 mbar(min)  \\\n",
       "0                      9.650573   \n",
       "\n",
       "   Vazão média de argônio durante a descarburação(Nm3/h)  \\\n",
       "0                                               4.55       \n",
       "\n",
       "   Volume de O2 soprado(m3)  Tempo total de descarburação(min)  \n",
       "0                115.391183                            22.3667  "
      ]
     },
     "execution_count": 683,
     "metadata": {},
     "output_type": "execute_result"
    }
   ],
   "source": [
    "tt2[columns_control]"
   ]
  },
  {
   "cell_type": "code",
   "execution_count": 672,
   "metadata": {},
   "outputs": [
    {
     "data": {
      "text/plain": [
       "array([[  4.9  , 481.7  ,  18.083,   6.15 , 188.   ,  23.85 , 306.66 ,\n",
       "        320.91 ,   5.733,   2.37 ]])"
      ]
     },
     "execution_count": 672,
     "metadata": {},
     "output_type": "execute_result"
    }
   ],
   "source": [
    "stp_n_nb = tt2[columns_control].values\n",
    "stp_n_nb"
   ]
  },
  {
   "cell_type": "code",
   "execution_count": 617,
   "metadata": {},
   "outputs": [
    {
     "name": "stdout",
     "output_type": "stream",
     "text": [
      "Iteration: 1, Time elapsed: 0.00 seconds\n",
      "Predictions on tt2:\n",
      "   Predicted_Probability  Predicted_Class\n",
      "0           3.152872e-07                0\n",
      "Iteration: 2, Time elapsed: 0.23 seconds\n",
      "Predictions on tt2:\n",
      "   Predicted_Probability  Predicted_Class\n",
      "0               0.008251                0\n",
      "Iteration: 3, Time elapsed: 0.49 seconds\n",
      "Predictions on tt2:\n",
      "   Predicted_Probability  Predicted_Class\n",
      "0           3.515841e-17                0\n",
      "Iteration: 4, Time elapsed: 0.70 seconds\n",
      "Predictions on tt2:\n",
      "   Predicted_Probability  Predicted_Class\n",
      "0           6.489062e-08                0\n",
      "Iteration: 5, Time elapsed: 0.92 seconds\n",
      "Predictions on tt2:\n",
      "   Predicted_Probability  Predicted_Class\n",
      "0           9.541195e-11                0\n",
      "Iteration: 6, Time elapsed: 1.22 seconds\n",
      "Predictions on tt2:\n",
      "   Predicted_Probability  Predicted_Class\n",
      "0           1.317582e-07                0\n",
      "Iteration: 7, Time elapsed: 1.52 seconds\n",
      "Predictions on tt2:\n",
      "   Predicted_Probability  Predicted_Class\n",
      "0               0.991529                1\n"
     ]
    }
   ],
   "source": [
    "import numpy as np\n",
    "import pandas as pd\n",
    "from sklearn.model_selection import train_test_split\n",
    "from sklearn.naive_bayes import GaussianNB\n",
    "from sklearn.preprocessing import RobustScaler\n",
    "import time\n",
    "import warnings\n",
    "import gc\n",
    "\n",
    "# Initialize the loop variables\n",
    "warnings.filterwarnings('ignore')\n",
    "condition_met = False\n",
    "start_time = time.time()\n",
    "time_limit = 10\n",
    "iteration = 0\n",
    "\n",
    "# Define constraints\n",
    "constraints = {\n",
    "    'Tempo abaixo de 10 mbar(min)': (9.650573007040464, 23),\n",
    "    'Vazão média de argônio durante o sopro de O2(Nm3/h)': (3.5215818863059383, 6.8251891508760565),\n",
    "    'Pressão média de vácuo durante o sopro de O2(mbar)': (400, 693.3164964745301),\n",
    "    'Volume de O2 soprado(m3)': (115.39118253104017, 248.45226169596572),\n",
    "    'Vazão média de argônio durante a descarburação(Nm3/h)': (4.55, 7.87)\n",
    "}\n",
    "\n",
    "while not condition_met:\n",
    "    try:\n",
    "        # Track elapsed time\n",
    "        elapsed_time = time.time() - start_time\n",
    "        if elapsed_time > time_limit:\n",
    "            print(\"Time limit exceeded. Stopping the loop.\")\n",
    "            break\n",
    "\n",
    "        iteration += 1\n",
    "        print(f\"Iteration: {iteration}, Time elapsed: {elapsed_time:.2f} seconds\")\n",
    "\n",
    "        # Reset index for contr DataFrame\n",
    "        contr.reset_index(drop=True, inplace=True)\n",
    "\n",
    "        # Concatenate and process DataFrames\n",
    "        tt2 = pd.concat([ent_, contr], axis=1)\n",
    "        tt2.fillna(0, inplace=True)\n",
    "        tt2 = pd.DataFrame(tt2.sum()).T\n",
    "        \n",
    "        # Apply constraints efficiently\n",
    "        for col, (a_min, a_max) in constraints.items():\n",
    "            if col in tt2.columns:\n",
    "                tt2[col] = np.clip(tt2[col], a_min=a_min, a_max=a_max)\n",
    "\n",
    "        required_columns = [\n",
    "            'Teor de C antes do VOD(%)', 'Teor de Cr antes do VOD(%)',\n",
    "            'Teor de Si antes do VOD(%)', 'Teor de Mn antes do VOD(%)',\n",
    "            'Teor de Ni antes do VOD(%)', 'Teor de Mo antes do VOD(%)',\n",
    "            'Temperatura do aço antes do VOD(°C)', 'Peso de aço antes do VOD(kg) ',\n",
    "            'Borda livre da panela(mm)', 'Vida de plug da panela', 'Vida da panela','Tempo total de descarburação(min)',\n",
    "            'Vazão média de argônio durante o sopro de O2(Nm3/h)',\n",
    "            'Pressão média de vácuo durante o sopro de O2(mbar)',\n",
    "            'Tempo abaixo de 10 mbar(min)',\n",
    "            'Vazão média de argônio durante a descarburação(Nm3/h)',\n",
    "            'Volume de O2 soprado(m3)', 'Temperatura máxima dos gases durante o sopro de O2(°C)',\n",
    "            'Pressão final de vácuo do sopro de O2(mbar)',\n",
    "            'Tempo de depressão de vácuo(min)', 'Pressão final de vácuo na descarburação(mbar)'\n",
    "        ]\n",
    "\n",
    "        tt2_test = tt2[required_columns]\n",
    "\n",
    "        x_ = dt[required_columns]\n",
    "        y_ = dt['opt']  \n",
    "\n",
    "        # Scale features using RobustScaler\n",
    "        scaler = RobustScaler()\n",
    "        x_scaled = scaler.fit_transform(x_)\n",
    "\n",
    "        x_train_3, x_test_3, y_train_3, y_test_3 = train_test_split(x_scaled, y_, test_size=0.9)\n",
    "\n",
    "        # Fit Gaussian Naive Bayes\n",
    "        gnb = GaussianNB()\n",
    "        gnb.fit(x_train_3, y_train_3)\n",
    "\n",
    "        # Predicting on tt2\n",
    "        tt2_features = scaler.transform(tt2_test[required_columns].values)  # Scale tt2 test features\n",
    "        y_pred_tt2_prob = gnb.predict_proba(tt2_features)[:, 1]  # Probability of the positive class\n",
    "        y_pred_tt2_binary = (y_pred_tt2_prob >= 0.5).astype(int)\n",
    "\n",
    "        # Display predictions for tt2\n",
    "        tt2['Predicted_Probability'] = y_pred_tt2_prob\n",
    "        tt2['Predicted_Class'] = y_pred_tt2_binary\n",
    "\n",
    "        print(\"Predictions on tt2:\")\n",
    "        print(tt2[['Predicted_Probability', 'Predicted_Class']])\n",
    "\n",
    "        # Calculate results\n",
    "        results_list = []\n",
    "        for i in required_columns:\n",
    "            if i in constraints:\n",
    "                correction = tt2_test[i].median()\n",
    "                # Impact can be derived from the predicted probabilities\n",
    "                impact = (y_pred_tt2_prob.mean() - 0.5) * correction\n",
    "                results_list.append({'Column': i, 'Alteração': impact})\n",
    "\n",
    "        results_df_ = pd.DataFrame(results_list).T\n",
    "        results_df_.columns = results_df_.iloc[0]\n",
    "        results_df_ = results_df_[1:]\n",
    "\n",
    "        # Common columns\n",
    "        common_columns = list(set(constraints.keys()) & set(results_df_.columns))\n",
    "        contr_common = contr[common_columns]\n",
    "        results_common = results_df_[common_columns]\n",
    "\n",
    "        # Combine and update\n",
    "        combined_df = pd.concat([contr_common, results_common], ignore_index=True)\n",
    "        final = combined_df.sum().reset_index()\n",
    "        final_df = final.T\n",
    "        final_df.columns = final_df.iloc[0]\n",
    "        final_df = final_df[1:]\n",
    "\n",
    "        contr.update(final_df[common_columns])\n",
    "        contr.reset_index(drop=True, inplace=True)\n",
    "\n",
    "        # Garbage collection\n",
    "        gc.collect()\n",
    "\n",
    "        # Check condition\n",
    "        if np.all(y_pred >= 0.99) and np.all(y_pred_tt2_binary == 1):\n",
    "            condition_met = True\n",
    "\n",
    "    except Exception as e:\n",
    "        print(f\"An error occurred: {e}\")\n",
    "        continue\n"
   ]
  },
  {
   "cell_type": "code",
   "execution_count": 618,
   "metadata": {},
   "outputs": [
    {
     "data": {
      "text/plain": [
       "array([[  3.52158189, 400.        ,   9.65057301,   4.55      ,\n",
       "        115.39118253]])"
      ]
     },
     "execution_count": 618,
     "metadata": {},
     "output_type": "execute_result"
    }
   ],
   "source": [
    "stp_n_nb = tt2[columns_control].values\n",
    "stp_n_nb"
   ]
  },
  {
   "cell_type": "code",
   "execution_count": 619,
   "metadata": {},
   "outputs": [
    {
     "data": {
      "text/plain": [
       "[[4.9, 463.3, 17.9, 6.03, 168.0]]"
      ]
     },
     "execution_count": 619,
     "metadata": {},
     "output_type": "execute_result"
    }
   ],
   "source": [
    "stp"
   ]
  },
  {
   "cell_type": "code",
   "execution_count": null,
   "metadata": {},
   "outputs": [],
   "source": [
    "## NB é melhor"
   ]
  }
 ],
 "metadata": {
  "kernelspec": {
   "display_name": "Python 3",
   "language": "python",
   "name": "python3"
  },
  "language_info": {
   "codemirror_mode": {
    "name": "ipython",
    "version": 3
   },
   "file_extension": ".py",
   "mimetype": "text/x-python",
   "name": "python",
   "nbconvert_exporter": "python",
   "pygments_lexer": "ipython3",
   "version": "3.12.7"
  }
 },
 "nbformat": 4,
 "nbformat_minor": 2
}
