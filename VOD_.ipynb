{
 "cells": [
  {
   "cell_type": "code",
   "execution_count": null,
   "id": "1d19f043-e36b-44e7-a3a3-4c66ac665956",
   "metadata": {},
   "outputs": [],
   "source": [
    "# base_packs\n",
    "import numpy as np\n",
    "import pandas as pd\n",
    "import scipy.stats as stats\n",
    "import matplotlib.pyplot as plt\n",
    "import sklearn.preprocessing as skp\n",
    "import sklearn.decomposition as skd\n",
    "import statsmodels.api as sm\n",
    "import sklearn.manifold as skm\n",
    "import sklearn.cluster as skc\n",
    "from sklearn.model_selection import train_test_split\n",
    "from sklearn.metrics import confusion_matrix\n",
    "from sklearn.ensemble import IsolationForest\n",
    "import matplotlib.pyplot as plt\n",
    "from sklearn.linear_model import LinearRegression\n",
    "from sklearn.metrics import r2_score\n",
    "from statsmodels.stats.diagnostic import het_white\n",
    "import ruptures as rpt\n",
    "from sklearn.tree import DecisionTreeClassifier\n",
    "from sklearn.preprocessing import StandardScaler\n",
    "import seaborn as sns"
   ]
  },
  {
   "cell_type": "code",
   "execution_count": null,
   "id": "93ad3778-cbc8-4982-bded-6cfc3d935331",
   "metadata": {},
   "outputs": [],
   "source": [
    "dt = \"data\"\n",
    "dt = pd.read_excel(dt)\n",
    "dt.columns.to_numpy"
   ]
  },
  {
   "cell_type": "code",
   "execution_count": null,
   "id": "f0212acd-e12d-406c-bfca-5fe0cf80d980",
   "metadata": {},
   "outputs": [],
   "source": [
    "dt.shape"
   ]
  },
  {
   "cell_type": "code",
   "execution_count": null,
   "id": "601c0c37-3513-484a-8df8-2f8d1464ae66",
   "metadata": {},
   "outputs": [],
   "source": [
    "dt.dtypes"
   ]
  },
  {
   "cell_type": "code",
   "execution_count": null,
   "id": "f799f05c-5388-44d4-bfd9-8a016f1af3bf",
   "metadata": {},
   "outputs": [],
   "source": [
    "dt[''].replace(',' , '.', inplace = True)\n",
    "dt['']= pd.to_numeric(dt[''] , errors = 'coerce')\n",
    "dt[''].count()"
   ]
  },
  {
   "cell_type": "code",
   "execution_count": null,
   "id": "221c4ead-6ac1-4fc4-a325-9e60c7fe04bb",
   "metadata": {},
   "outputs": [],
   "source": [
    "dt.drop(columns=[''], inplace=True)\n",
    "dt.replace('', 1 , inplace = True)\n",
    "dt.replace('', 0 , inplace = True)"
   ]
  },
  {
   "cell_type": "code",
   "execution_count": null,
   "id": "90ae5784-3099-4126-aa83-ace7b2ceffc9",
   "metadata": {},
   "outputs": [],
   "source": [
    "dt = pd.get_dummies(dt)"
   ]
  },
  {
   "cell_type": "code",
   "execution_count": null,
   "id": "79d78f41-bf08-4351-9784-3426df4d8673",
   "metadata": {},
   "outputs": [],
   "source": [
    "dt[''] = dt[''] + dt[''] + dt['']"
   ]
  },
  {
   "cell_type": "code",
   "execution_count": null,
   "id": "dd50e987-a813-4134-9355-1fb649431a3b",
   "metadata": {},
   "outputs": [],
   "source": [
    "dt"
   ]
  },
  {
   "cell_type": "code",
   "execution_count": null,
   "id": "b84b5174-c69f-4acc-b102-a283d4dc6fde",
   "metadata": {},
   "outputs": [],
   "source": [
    "#substituir nan  pela mediana.\n",
    "for i in dt.columns:\n",
    "    median_value = dt[i].median()  # Calculate median for the column\n",
    "    dt[i].fillna(median_value, inplace=True)"
   ]
  },
  {
   "cell_type": "code",
   "execution_count": null,
   "id": "b0ce700d-df91-4c0a-b0ea-139988cfd41d",
   "metadata": {},
   "outputs": [],
   "source": [
    "dt = dt.replace({False: 0, True: 1})\n",
    "dt"
   ]
  },
  {
   "cell_type": "code",
   "execution_count": null,
   "id": "27014eca-3720-43ec-ac23-1dde25c7c751",
   "metadata": {},
   "outputs": [],
   "source": [
    "contr = dt['Pressão ...']\n",
    "contr.values"
   ]
  },
  {
   "cell_type": "code",
   "execution_count": null,
   "id": "bc209369-f085-45a2-a3f3-37acd557793a",
   "metadata": {},
   "outputs": [],
   "source": [
    "contr_dt = pd.DataFrame(contr.values)\n",
    "contr_dt"
   ]
  },
  {
   "cell_type": "code",
   "execution_count": null,
   "id": "08ce49bd-086d-4d27-a850-354de58e1c91",
   "metadata": {},
   "outputs": [],
   "source": [
    "model = rpt.Pelt(model=\"rbf\").fit(contr.values)\n",
    "breakpoints = model.predict(pen= 0)\n",
    "breaks_df = pd.DataFrame({\n",
    "    'Break_Index': breakpoints,\n",
    "     \n",
    "    \n",
    "})"
   ]
  },
  {
   "cell_type": "code",
   "execution_count": null,
   "id": "ef751e34-b94e-4f2a-b6c5-8a86f54b56f6",
   "metadata": {},
   "outputs": [],
   "source": [
    "clusters = []\n",
    "for i in range(len(breakpoints) - 1):\n",
    "    clusters.append((breakpoints[i], breakpoints[i+1]))\n"
   ]
  },
  {
   "cell_type": "code",
   "execution_count": null,
   "id": "6eeb43b9-134a-44b3-92c5-7da14a1bba50",
   "metadata": {},
   "outputs": [],
   "source": [
    "dt['Tag_processo_pressão'] = np.nan\n",
    "for i, (start, end) in enumerate(clusters):\n",
    "    dt.loc[dt.index[start:end], 'Tag_processo_pressão'] = i + 1 "
   ]
  },
  {
   "cell_type": "code",
   "execution_count": null,
   "id": "209d66b1-f3af-4da0-99d1-e64d99773fef",
   "metadata": {},
   "outputs": [],
   "source": [
    "dt['Tag_processo_pressão'] = dt['Tag_processo_pressão'].fillna(0)\n",
    "dt['Tag_processo_pressão']"
   ]
  },
  {
   "cell_type": "code",
   "execution_count": null,
   "id": "5a5df8c2-012a-4ecf-b5e2-02625a12e73f",
   "metadata": {},
   "outputs": [],
   "source": [
    "clus_tab = dt.groupby(['Tag_processo_pressão']).mean()\n",
    "clus_tab['Tempo ...'] "
   ]
  },
  {
   "cell_type": "code",
   "execution_count": null,
   "id": "0a8c49d4-a1d8-4d45-ba94-a269e11cc753",
   "metadata": {},
   "outputs": [],
   "source": [
    "clus_tab"
   ]
  },
  {
   "cell_type": "code",
   "execution_count": null,
   "id": "fbb3a8de-044e-41b5-878c-777141385287",
   "metadata": {},
   "outputs": [],
   "source": [
    "## Clusterização e regressão logística para ver as causas de uma liga boa e ruim.\n",
    "#separação em Teor de C após a descarburação(%), menor que a media do dt, e Tempo total de descarburação(min)\n",
    "##menor que a média do dt.\n",
    "# regressão dá a significância e impacto, clus_tab dá  a combinação de variáveis.\n",
    "#criar outra variavel clusters com a reclassificação para a regressão logistica, 0 e 1, assim fica mais fácil de pegar as combinaçõs do processo."
   ]
  },
  {
   "cell_type": "code",
   "execution_count": null,
   "id": "309f61f5-e995-49b0-8ed5-2b54c7c28bd7",
   "metadata": {},
   "outputs": [],
   "source": [
    "cluster= pd.DataFrame(dt['Tag_processo_pressão'])\n",
    "cluster"
   ]
  },
  {
   "cell_type": "code",
   "execution_count": null,
   "id": "e182a37f-1759-4604-b6ef-c9f5a3fb2d45",
   "metadata": {},
   "outputs": [],
   "source": [
    "dt['cluster'] = 0\n",
    "dt.loc[(dt['Teor de C após a descarburação(%)'] < dt['Teor de C após a descarburação(%)'].mean() ) & (dt['tempo_total'] < dt['tempo_total'].mean()), 'cluster'] = 1"
   ]
  },
  {
   "cell_type": "code",
   "execution_count": null,
   "id": "60cc69eb-5cd9-4ac1-a5d1-9003458c0dad",
   "metadata": {},
   "outputs": [],
   "source": [
    "dt['cluster'].value_counts()"
   ]
  },
  {
   "cell_type": "code",
   "execution_count": null,
   "id": "23834338-4d56-4203-ad73-5691eecb8850",
   "metadata": {},
   "outputs": [],
   "source": [
    "tag = pd.DataFrame(dt['Tag_processo_pressão'])\n",
    "tag = tag.astype(int).astype(str)\n",
    "tag"
   ]
  },
  {
   "cell_type": "code",
   "execution_count": null,
   "id": "fe78c7bd-1778-4daa-be9e-741ef593e3f4",
   "metadata": {},
   "outputs": [],
   "source": [
    "tag = pd.get_dummies(tag)\n",
    "tag.replace({False: 0, True: 1})\n",
    "tag"
   ]
  },
  {
   "cell_type": "code",
   "execution_count": null,
   "id": "bb9f087b-97d9-4fdc-96a0-199d84e7ae08",
   "metadata": {},
   "outputs": [],
   "source": [
    "scaler = StandardScaler()\n",
    "dt_scaled = scaler.fit_transform(dt)\n",
    "dt_scaled = pd.DataFrame(dt_scaled, columns=dt.columns )\n",
    "dt_scaled.columns"
   ]
  },
  {
   "cell_type": "code",
   "execution_count": null,
   "id": "3f19c586-4d07-4c05-bd2d-b7efd1e21902",
   "metadata": {},
   "outputs": [],
   "source": [
    "## rodar duas regressões, uma só com as tag_processo pressão em dummie, e outras sem as tags."
   ]
  },
  {
   "cell_type": "code",
   "execution_count": null,
   "id": "01bca24a-7db7-4c91-8971-f186661a291c",
   "metadata": {},
   "outputs": [],
   "source": [
    "#Logit:\n",
    "x_ = dt_scaled[[\n",
    "      'all the features expect the target']]\n",
    "x_x = tag[tag.columns]\n",
    "\n",
    "\n",
    "y_ = dt['cluster']"
   ]
  },
  {
   "cell_type": "code",
   "execution_count": null,
   "id": "0b140eb5-8711-46bc-a904-a6f619ce6c35",
   "metadata": {},
   "outputs": [],
   "source": [
    "x_train, x_test, y_train, y_test = train_test_split(x_x, y_, test_size=0.2, random_state=42)"
   ]
  },
  {
   "cell_type": "code",
   "execution_count": null,
   "id": "21fc01f1-9468-4e97-8960-8947457233e8",
   "metadata": {},
   "outputs": [],
   "source": [
    "# Decision tree classifier:\n",
    "clf = DecisionTreeClassifier(random_state=42)\n",
    "clf.fit(x_x, y_)\n"
   ]
  },
  {
   "cell_type": "code",
   "execution_count": null,
   "id": "b22d547e-80c4-495a-8c00-9001e68aa174",
   "metadata": {},
   "outputs": [],
   "source": [
    "from sklearn.inspection import permutation_importance\n",
    "result = permutation_importance(clf, x_x, y_, n_repeats=10, random_state=42)\n",
    "importance = result.importances_mean\n",
    "importance = pd.DataFrame(importance)\n",
    "importance"
   ]
  },
  {
   "cell_type": "code",
   "execution_count": null,
   "id": "9f2c84d6-c903-4d5b-a16b-1580ca0b06d6",
   "metadata": {},
   "outputs": [],
   "source": [
    "from sklearn.linear_model import LogisticRegression\n",
    "import statsmodels.discrete.discrete_model as sm\n",
    "model= sm.Logit(y_,x_)\n",
    "co =model.fit().params\n",
    "coe = pd.DataFrame(co)\n",
    "coe.columns = ['coeff']\n",
    "exp_coeff =   np.exp(coe)/(np.exp(coe) + 1) \n",
    "exp_coeff = pd.DataFrame(exp_coeff)\n",
    "exp_coeff.columns = ['exp_coeff']\n",
    "exp_coeff\n",
    "results = model.fit( )\n",
    "results_summary = results.summary()\n",
    "results_summary"
   ]
  },
  {
   "cell_type": "code",
   "execution_count": null,
   "id": "d11b7a12-9f8a-47f6-a0dc-b5f9ae8f8821",
   "metadata": {},
   "outputs": [],
   "source": [
    "results_as_html = results_summary.tables[1].as_html()\n",
    "df_results = pd.read_html(results_as_html, header=0, index_col=0)[0]\n",
    "df_results['exp_coeff'] = exp_coeff\n",
    "df_results"
   ]
  },
  {
   "cell_type": "code",
   "execution_count": null,
   "id": "1fdb37e6-5d17-4c53-9333-9e762cd1109b",
   "metadata": {},
   "outputs": [],
   "source": [
    "## Temos qual processo, clf, e oque alterar nesse processo, regressão logística."
   ]
  },
  {
   "cell_type": "code",
   "execution_count": null,
   "id": "0b8bf363-f666-4ed1-b5eb-17d46e891807",
   "metadata": {},
   "outputs": [],
   "source": [
    "# Em suma, agrupamos via quebra-estrutural da tag do processo de descarburação do forno VOD.\n",
    "# Dessa forma, selecionamos os processos, clusters com menor teor de C e menor tempo de processo, com cluster igual a 1\n",
    "# Rodamos uma regressão logística com os dois grupos, dessa forma temos os fatores que de fato causam as características que queremos otimizar.\n",
    "# e rodamos uma classifier tree com as dummies dos processos,tag_processos, para selecionar qual o processo que favorece as caracter´siticas que buscamos.\n",
    "# As características sendo o baixo teor de C na liga e menor tempode processo, em vista a otimizar o forno."
   ]
  }
 ],
 "metadata": {
  "kernelspec": {
   "display_name": "Python 3 (ipykernel)",
   "language": "python",
   "name": "python3"
  },
  "language_info": {
   "codemirror_mode": {
    "name": "ipython",
    "version": 3
   },
   "file_extension": ".py",
   "mimetype": "text/x-python",
   "name": "python",
   "nbconvert_exporter": "python",
   "pygments_lexer": "ipython3",
   "version": "3.12.4"
  }
 },
 "nbformat": 4,
 "nbformat_minor": 5
}
